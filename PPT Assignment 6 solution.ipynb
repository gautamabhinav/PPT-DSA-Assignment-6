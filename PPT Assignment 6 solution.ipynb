{
 "cells": [
  {
   "cell_type": "code",
   "execution_count": 1,
   "id": "8b7718b4",
   "metadata": {},
   "outputs": [
    {
     "name": "stdout",
     "output_type": "stream",
     "text": [
      "[0, 4, 1, 3, 2]\n"
     ]
    }
   ],
   "source": [
    "#1\n",
    "def reconstruct_permutation(s):\n",
    "    perm = []\n",
    "    current = 0\n",
    "    start = len(s)\n",
    "\n",
    "    for c in s:\n",
    "        if c == 'I':\n",
    "            perm.append(current)\n",
    "            current += 1\n",
    "        elif c == 'D':\n",
    "            perm.append(start)\n",
    "            start -= 1\n",
    "\n",
    "    perm.append(start)\n",
    "\n",
    "    return perm\n",
    "\n",
    "# Test case\n",
    "s = \"IDID\"\n",
    "perm = reconstruct_permutation(s)\n",
    "print(perm)\n"
   ]
  },
  {
   "cell_type": "markdown",
   "id": "5d63240f",
   "metadata": {},
   "source": []
  },
  {
   "cell_type": "code",
   "execution_count": 2,
   "id": "4a6360bf",
   "metadata": {},
   "outputs": [
    {
     "name": "stdout",
     "output_type": "stream",
     "text": [
      "True\n"
     ]
    }
   ],
   "source": [
    "#2\n",
    "def search_matrix(matrix, target):\n",
    "    m, n = len(matrix), len(matrix[0])\n",
    "    left, right = 0, m * n - 1\n",
    "\n",
    "    while left <= right:\n",
    "        mid = (left + right) // 2\n",
    "        row, col = mid // n, mid % n\n",
    "\n",
    "        if matrix[row][col] == target:\n",
    "            return True\n",
    "        elif matrix[row][col] < target:\n",
    "            left = mid + 1\n",
    "        else:\n",
    "            right = mid - 1\n",
    "\n",
    "    return False\n",
    "\n",
    "# Test case\n",
    "matrix = [[1, 3, 5, 7], [10, 11, 16, 20], [23, 30, 34, 60]]\n",
    "target = 3\n",
    "result = search_matrix(matrix, target)\n",
    "print(result)\n"
   ]
  },
  {
   "cell_type": "code",
   "execution_count": 3,
   "id": "33646420",
   "metadata": {},
   "outputs": [
    {
     "name": "stdout",
     "output_type": "stream",
     "text": [
      "False\n"
     ]
    }
   ],
   "source": [
    "#3\n",
    "def valid_mountain_array(arr):\n",
    "    if len(arr) < 3:\n",
    "        return False\n",
    "\n",
    "    i, n = 0, len(arr) - 1\n",
    "\n",
    "    while i < n and arr[i] < arr[i + 1]:\n",
    "        i += 1\n",
    "\n",
    "    if i == 0 or i == n:\n",
    "        return False\n",
    "\n",
    "    while i < n and arr[i] > arr[i + 1]:\n",
    "        i += 1\n",
    "\n",
    "    return i == n\n",
    "\n",
    "# Test case\n",
    "arr = [2, 1]\n",
    "result = valid_mountain_array(arr)\n",
    "print(result)\n"
   ]
  },
  {
   "cell_type": "code",
   "execution_count": 4,
   "id": "182f0af2",
   "metadata": {},
   "outputs": [
    {
     "name": "stdout",
     "output_type": "stream",
     "text": [
      "2\n"
     ]
    }
   ],
   "source": [
    "#4\n",
    "def find_max_length(nums):\n",
    "    max_length = 0\n",
    "    count = 0\n",
    "    count_dict = {0: -1}\n",
    "\n",
    "    for i in range(len(nums)):\n",
    "        count += 1 if nums[i] == 1 else -1\n",
    "\n",
    "        if count in count_dict:\n",
    "            max_length = max(max_length, i - count_dict[count])\n",
    "        else:\n",
    "            count_dict[count] = i\n",
    "\n",
    "    return max_length\n",
    "\n",
    "# Test case\n",
    "nums = [0, 1]\n",
    "result = find_max_length(nums)\n",
    "print(result)\n"
   ]
  },
  {
   "cell_type": "code",
   "execution_count": 5,
   "id": "083b1a95",
   "metadata": {},
   "outputs": [
    {
     "name": "stdout",
     "output_type": "stream",
     "text": [
      "40\n"
     ]
    }
   ],
   "source": [
    "#5\n",
    "def min_product_sum(nums1, nums2):\n",
    "    nums1.sort()\n",
    "    nums2.sort(reverse=True)\n",
    "    min_product_sum = 0\n",
    "\n",
    "    for i in range(len(nums1)):\n",
    "        min_product_sum += nums1[i] * nums2[i]\n",
    "\n",
    "    return min_product_sum\n",
    "\n",
    "# Test case\n",
    "nums1 = [5, 3, 4, 2]\n",
    "nums2 = [4, 2, 2, 5]\n",
    "result = min_product_sum(nums1, nums2)\n",
    "print(result)\n"
   ]
  },
  {
   "cell_type": "code",
   "execution_count": 6,
   "id": "166bf7cd",
   "metadata": {},
   "outputs": [
    {
     "name": "stdout",
     "output_type": "stream",
     "text": [
      "[1, 3, 4]\n"
     ]
    }
   ],
   "source": [
    "#6\n",
    "from collections import Counter\n",
    "\n",
    "def findOriginalArray(changed):\n",
    "    # Check if the length of the changed array is odd\n",
    "    if len(changed) % 2 != 0:\n",
    "        return []\n",
    "\n",
    "    # Sort the changed array in ascending order\n",
    "    changed.sort()\n",
    "\n",
    "    # Create a counter to keep track of the frequency of each element in the changed array\n",
    "    counter = Counter(changed)\n",
    "\n",
    "    original = []\n",
    "\n",
    "    for num in changed:\n",
    "        # Check if the current number has already been used\n",
    "        if counter[num] == 0:\n",
    "            continue\n",
    "\n",
    "        # Check if the double of the current number is present in the counter\n",
    "        if counter[2 * num] == 0:\n",
    "            return []\n",
    "\n",
    "        # Append the current number to the original array\n",
    "        original.append(num)\n",
    "\n",
    "        # Decrement the counters for the current number and its double\n",
    "        counter[num] -= 1\n",
    "        counter[2 * num] -= 1\n",
    "\n",
    "    return original\n",
    "\n",
    "# Test case\n",
    "changed = [1, 3, 4, 2, 6, 8]\n",
    "result = findOriginalArray(changed)\n",
    "print(result)\n"
   ]
  },
  {
   "cell_type": "code",
   "execution_count": 7,
   "id": "3d1974e1",
   "metadata": {},
   "outputs": [
    {
     "name": "stdout",
     "output_type": "stream",
     "text": [
      "[[1, 2, 3], [8, 9, 4], [7, 6, 5]]\n"
     ]
    }
   ],
   "source": [
    "#7\n",
    "def generateMatrix(n):\n",
    "    # Initialize the matrix with zeros\n",
    "    matrix = [[0] * n for _ in range(n)]\n",
    "    \n",
    "    # Define the boundaries of the matrix\n",
    "    top = 0\n",
    "    bottom = n - 1\n",
    "    left = 0\n",
    "    right = n - 1\n",
    "    \n",
    "    num = 1  # Current number to fill in the matrix\n",
    "    \n",
    "    while num <= n * n:\n",
    "        # Fill the top row from left to right\n",
    "        for i in range(left, right + 1):\n",
    "            matrix[top][i] = num\n",
    "            num += 1\n",
    "        top += 1\n",
    "        \n",
    "        # Fill the right column from top to bottom\n",
    "        for i in range(top, bottom + 1):\n",
    "            matrix[i][right] = num\n",
    "            num += 1\n",
    "        right -= 1\n",
    "        \n",
    "        # Fill the bottom row from right to left\n",
    "        for i in range(right, left - 1, -1):\n",
    "            matrix[bottom][i] = num\n",
    "            num += 1\n",
    "        bottom -= 1\n",
    "        \n",
    "        # Fill the left column from bottom to top\n",
    "        for i in range(bottom, top - 1, -1):\n",
    "            matrix[i][left] = num\n",
    "            num += 1\n",
    "        left += 1\n",
    "    \n",
    "    return matrix\n",
    "\n",
    "# Test case\n",
    "n = 3\n",
    "result = generateMatrix(n)\n",
    "print(result)\n"
   ]
  },
  {
   "cell_type": "code",
   "execution_count": 8,
   "id": "fed77e11",
   "metadata": {},
   "outputs": [
    {
     "name": "stdout",
     "output_type": "stream",
     "text": [
      "[[7, 0, 0], [-7, 0, 3]]\n"
     ]
    }
   ],
   "source": [
    "#8\n",
    "def multiply(mat1, mat2):\n",
    "    m, k = len(mat1), len(mat1[0])\n",
    "    n = len(mat2[0])\n",
    "    \n",
    "    # Initialize the result matrix with zeros\n",
    "    result = [[0] * n for _ in range(m)]\n",
    "    \n",
    "    # Perform matrix multiplication\n",
    "    for i in range(m):\n",
    "        for j in range(n):\n",
    "            for p in range(k):\n",
    "                result[i][j] += mat1[i][p] * mat2[p][j]\n",
    "    \n",
    "    return result\n",
    "\n",
    "# Test case\n",
    "mat1 = [[1, 0, 0], [-1, 0, 3]]\n",
    "mat2 = [[7, 0, 0], [0, 0, 0], [0, 0, 1]]\n",
    "result = multiply(mat1, mat2)\n",
    "print(result)\n"
   ]
  },
  {
   "cell_type": "code",
   "execution_count": null,
   "id": "56b5df4f",
   "metadata": {},
   "outputs": [],
   "source": []
  }
 ],
 "metadata": {
  "kernelspec": {
   "display_name": "Python 3 (ipykernel)",
   "language": "python",
   "name": "python3"
  },
  "language_info": {
   "codemirror_mode": {
    "name": "ipython",
    "version": 3
   },
   "file_extension": ".py",
   "mimetype": "text/x-python",
   "name": "python",
   "nbconvert_exporter": "python",
   "pygments_lexer": "ipython3",
   "version": "3.10.5"
  }
 },
 "nbformat": 4,
 "nbformat_minor": 5
}
